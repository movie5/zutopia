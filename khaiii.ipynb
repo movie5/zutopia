{
  "nbformat": 4,
  "nbformat_minor": 0,
  "metadata": {
    "colab": {
      "name": "khaiii.ipynb",
      "provenance": [],
      "private_outputs": true,
      "mount_file_id": "1SXzG48Lb83jKP4ZmxpR4MDdHQ7d3nKW7",
      "authorship_tag": "ABX9TyMmgorF3A40y0HKe5wk2+a5",
      "include_colab_link": true
    },
    "kernelspec": {
      "name": "python3",
      "display_name": "Python 3"
    }
  },
  "cells": [
    {
      "cell_type": "markdown",
      "metadata": {
        "id": "view-in-github",
        "colab_type": "text"
      },
      "source": [
        "<a href=\"https://colab.research.google.com/github/movie5/zutopia/blob/master/khaiii.ipynb\" target=\"_parent\"><img src=\"https://colab.research.google.com/assets/colab-badge.svg\" alt=\"Open In Colab\"/></a>"
      ]
    },
    {
      "cell_type": "code",
      "metadata": {
        "id": "L3XtmwueNxU7",
        "colab_type": "code",
        "colab": {}
      },
      "source": [
        "!git clone https://github.com/kakao/khaiii.git\n",
        "!pip install cmake\n",
        "!mkdir build\n",
        "!cd build && cmake /content/khaiii\n",
        "!cd /content/build/ && make all\n",
        "!cd /content/build/ && make resource\n",
        "!cd /content/build && make install\n",
        "!cd /content/build && make package_python\n",
        "!pip install /content/build/package_python"
      ],
      "execution_count": null,
      "outputs": []
    },
    {
      "cell_type": "code",
      "metadata": {
        "id": "r5D7vM7zdy5L",
        "colab_type": "code",
        "colab": {}
      },
      "source": [
        ""
      ],
      "execution_count": null,
      "outputs": []
    },
    {
      "cell_type": "markdown",
      "metadata": {
        "id": "ozlF3knvdzSY",
        "colab_type": "text"
      },
      "source": [
        ""
      ]
    },
    {
      "cell_type": "code",
      "metadata": {
        "id": "X9AlBubxbEjx",
        "colab_type": "code",
        "colab": {}
      },
      "source": [
        "!cd build && cmake /content/khaiii"
      ],
      "execution_count": null,
      "outputs": []
    },
    {
      "cell_type": "code",
      "metadata": {
        "id": "cUAOIrGTP6hy",
        "colab_type": "code",
        "colab": {}
      },
      "source": [
        "from google.colab import drive\n",
        "drive.mount('/gdrive', force_remount=True)"
      ],
      "execution_count": null,
      "outputs": []
    },
    {
      "cell_type": "code",
      "metadata": {
        "id": "XOjPMCnBTDZe",
        "colab_type": "code",
        "colab": {}
      },
      "source": [
        "import pandas as pd\n",
        "# data_path = your_path\n",
        "train = pd.read_json('/gdrive/My Drive/Colab Notebooks/train.json')\n",
        "val = pd.read_json('/gdrive/My Drive/Colab Notebooks/val.json')"
      ],
      "execution_count": null,
      "outputs": []
    },
    {
      "cell_type": "code",
      "metadata": {
        "id": "41_DeQcTYAQX",
        "colab_type": "code",
        "colab": {}
      },
      "source": [
        "!ls \"/gdrive\""
      ],
      "execution_count": null,
      "outputs": []
    },
    {
      "cell_type": "code",
      "metadata": {
        "id": "SyoCC9bITxrj",
        "colab_type": "code",
        "colab": {}
      },
      "source": [
        "cd \"/gdrive/My Drive\""
      ],
      "execution_count": null,
      "outputs": []
    },
    {
      "cell_type": "code",
      "metadata": {
        "id": "f0iLy1XrZ_2t",
        "colab_type": "code",
        "colab": {}
      },
      "source": [
        "ls \"/gdrive/My Drive\""
      ],
      "execution_count": null,
      "outputs": []
    },
    {
      "cell_type": "code",
      "metadata": {
        "id": "95fRxOk6Y9mU",
        "colab_type": "code",
        "colab": {}
      },
      "source": [
        "#1 valid, test set을 보면 제목만 주어지고 songs나 tags에 대한 정보가 전혀 없는 경우가 있습니다.\n",
        "val[(val['tags'] + val['songs']).map(len) == 0]"
      ],
      "execution_count": null,
      "outputs": []
    },
    {
      "cell_type": "code",
      "metadata": {
        "id": "WERdlOcvZaIm",
        "colab_type": "code",
        "colab": {}
      },
      "source": [
        "# Tags와 플레이리스트를 같이 보다보면 제목에 있는 단어를 그대로 태그로 붙이는 경우가 많이 있기 때문입니다. 확인해 볼 수 있습니다.\n",
        "train.tail()"
      ],
      "execution_count": null,
      "outputs": []
    },
    {
      "cell_type": "code",
      "metadata": {
        "id": "uMMxbUioZdWz",
        "colab_type": "code",
        "colab": {}
      },
      "source": [
        "import json\n",
        "import re\n",
        "from collections import Counter\n",
        "from typing import *\n",
        "\n",
        "import matplotlib.pyplot as plt; plt.rcdefaults()\n",
        "import numpy as np\n",
        "import pandas as pd\n",
        "from khaiii import KhaiiiApi  # khaiii 레포는 https://github.com/kakao/khaiii 이쪽"
      ],
      "execution_count": null,
      "outputs": []
    },
    {
      "cell_type": "code",
      "metadata": {
        "id": "ug-VmUiiZ6KU",
        "colab_type": "code",
        "colab": {}
      },
      "source": [
        "def re_sub(series: pd.Series) -> pd.Series:\n",
        "    series = series.str.replace(pat=r'[ㄱ-ㅎ]', repl=r'', regex=True)  # ㅋ 제거용\n",
        "    series = series.str.replace(pat=r'[^\\w\\s]', repl=r'', regex=True)  # 특수문자 제거\n",
        "    series = series.str.replace(pat=r'[ ]{2,}', repl=r' ', regex=True)  # 공백 제거\n",
        "    series = series.str.replace(pat=r'[\\u3000]+', repl=r'', regex=True)  # u3000 제거\n",
        "    return series\n",
        "\n",
        "def flatten(list_of_list : List) -> List:\n",
        "    flatten = [j for i in list_of_list for j in i]\n",
        "    return flatten\n",
        "\n",
        "def get_token(title: str, tokenizer)-> List[Tuple]:\n",
        "    \n",
        "    if len(title)== 0 or title== ' ':  # 제목이 공백인 경우 tokenizer에러 발생\n",
        "        return []\n",
        "    \n",
        "    result = tokenizer.analyze(title)\n",
        "    result = [(morph.lex, morph.tag) for split in result for morph in split.morphs]  # (형태소, 품사) 튜플의 리스트\n",
        "    return result\n",
        "\n",
        "def get_all_tags(df) -> List:\n",
        "    tag_list = df['tags'].values.tolist()\n",
        "    tag_list = flatten(tag_list)\n",
        "    return tag_list"
      ],
      "execution_count": null,
      "outputs": []
    },
    {
      "cell_type": "code",
      "metadata": {
        "id": "LQ6QQcsefxZQ",
        "colab_type": "code",
        "colab": {}
      },
      "source": [
        "tokenizer = KhaiiiApi()\n",
        "all_tag = get_all_tags(train)\n",
        "token_tag = [get_token(x, tokenizer) for x in all_tag]  # 태그를 형태소 분석"
      ],
      "execution_count": null,
      "outputs": []
    },
    {
      "cell_type": "code",
      "metadata": {
        "id": "hVtgh3Jsf8KN",
        "colab_type": "code",
        "colab": {}
      },
      "source": [
        "token_tag[:10]"
      ],
      "execution_count": null,
      "outputs": []
    },
    {
      "cell_type": "code",
      "metadata": {
        "id": "QL5XP7YKgalP",
        "colab_type": "code",
        "colab": {}
      },
      "source": [
        "token_itself = list(filter(lambda x: len(x)==1, token_tag))  # 태그 자체가 형태소여서 분리되지 않는 태그만 골라봅니다\n",
        "token_itself = flatten(token_itself)\n",
        "flatten_token = flatten(token_tag)"
      ],
      "execution_count": null,
      "outputs": []
    },
    {
      "cell_type": "code",
      "metadata": {
        "id": "cuIyQQFCgdhI",
        "colab_type": "code",
        "colab": {}
      },
      "source": [
        "print('%-23s'%'# of original tag is', f'{len(all_tag):8,}')\n",
        "print('%-23s'%'# of morpheme itself is', f'{len(token_itself):8,}')\n",
        "print('%-23s'%'# of total token is', f'{len(flatten_token):8,}')"
      ],
      "execution_count": null,
      "outputs": []
    },
    {
      "cell_type": "code",
      "metadata": {
        "id": "CPFJl38gghBI",
        "colab_type": "code",
        "colab": {}
      },
      "source": [
        "# Counting Part of Speech (pos)\n",
        "pos = [x[1] for x in token_itself]\n",
        "pos_count = Counter(pos)\n",
        "popular_pos = pos_count.most_common()"
      ],
      "execution_count": null,
      "outputs": []
    },
    {
      "cell_type": "code",
      "metadata": {
        "id": "ehsTgp7jgkfH",
        "colab_type": "code",
        "colab": {}
      },
      "source": [
        "# tag 분류표는 https://github.com/kakao/khaiii/wiki/%EC%BD%94%ED%8D%BC%EC%8A%A4 를 참고\n",
        "objects = [x[0] for x in popular_pos]\n",
        "y_pos = np.arange(len(objects))\n",
        "performance = [x[1] for x in popular_pos]\n",
        "\n",
        "plt.barh(y_pos, performance, align='center', alpha=0.5)\n",
        "plt.yticks(y_pos, objects)\n",
        "plt.xlabel('Usage')\n",
        "plt.title('Part of Speech - Tags')\n",
        "\n",
        "plt.show()"
      ],
      "execution_count": null,
      "outputs": []
    },
    {
      "cell_type": "markdown",
      "metadata": {
        "id": "34mbIrOig9dL",
        "colab_type": "text"
      },
      "source": [
        "플레이리스트 제목을 형태소 분석"
      ]
    },
    {
      "cell_type": "code",
      "metadata": {
        "id": "201kDK06gmh7",
        "colab_type": "code",
        "colab": {}
      },
      "source": [
        "train['plylst_title'] = re_sub(train['plylst_title'])\n",
        "train.loc[:, 'ply_token'] = train['plylst_title'].map(lambda x: get_token(x, tokenizer))\n"
      ],
      "execution_count": null,
      "outputs": []
    },
    {
      "cell_type": "code",
      "metadata": {
        "id": "GGC02-znhERk",
        "colab_type": "code",
        "colab": {}
      },
      "source": [
        "using_pos = ['NNG','SL','NNP','MAG','SN','XR']  # 일반 명사, 외국어, 고유 명사, 일반 부사, 숫자, 어근\n",
        "train['ply_token_basic'] = train['ply_token'].map(lambda x: list(filter(lambda x: x[1] in using_pos, x)))\n",
        "train['ply_token_basic'] = train['ply_token'].map(lambda x: list(filter(lambda x: x[1] in using_pos, x)))"
      ],
      "execution_count": null,
      "outputs": []
    },
    {
      "cell_type": "code",
      "metadata": {
        "id": "hs8eIeD8hPp9",
        "colab_type": "code",
        "colab": {}
      },
      "source": [
        "unique_tag = set(token_itself)\n",
        "unique_word = [x[0] for x in unique_tag]"
      ],
      "execution_count": null,
      "outputs": []
    },
    {
      "cell_type": "code",
      "metadata": {
        "id": "ihPwCvQdhuy3",
        "colab_type": "code",
        "colab": {}
      },
      "source": [
        "# 우리의 목적은 정답 tags를 맞추는 것이기 때문에 정답 tags에 나온 형태소만 남겨둡니다.\n",
        "train['ply_token_tag'] = train['ply_token'].map(lambda x: list(filter(lambda x: x[0] in unique_word, x)))\n",
        "train.head(10)"
      ],
      "execution_count": null,
      "outputs": []
    },
    {
      "cell_type": "code",
      "metadata": {
        "id": "qgg0qxoMhydo",
        "colab_type": "code",
        "colab": {}
      },
      "source": [
        "train.tail(20)"
      ],
      "execution_count": null,
      "outputs": []
    },
    {
      "cell_type": "code",
      "metadata": {
        "id": "l8DnfEtGkJeQ",
        "colab_type": "code",
        "colab": {}
      },
      "source": [
        "train.to_json('train_tokenized.json', orient='table')"
      ],
      "execution_count": null,
      "outputs": []
    },
    {
      "cell_type": "code",
      "metadata": {
        "id": "8KtKshE7kj_n",
        "colab_type": "code",
        "colab": {}
      },
      "source": [
        "taglist = pd.read_json('/gdrive/My Drive/Colab Notebooks/tag_song_pair.json', typ='frame')"
      ],
      "execution_count": null,
      "outputs": []
    },
    {
      "cell_type": "code",
      "metadata": {
        "id": "5b1gnDs6tFK2",
        "colab_type": "code",
        "colab": {}
      },
      "source": [
        "train = pd.read_json('/gdrive/My Drive/Colab Notebooks/tag_group_list.json', orient = 'table')"
      ],
      "execution_count": null,
      "outputs": []
    },
    {
      "cell_type": "code",
      "metadata": {
        "id": "Cb8wALdIufk6",
        "colab_type": "code",
        "colab": {}
      },
      "source": [
        ""
      ],
      "execution_count": null,
      "outputs": []
    }
  ]
}